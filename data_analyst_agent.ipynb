{
 "cells": [
  {
   "cell_type": "code",
   "execution_count": 5,
   "id": "6a4775cc",
   "metadata": {
    "vscode": {
     "languageId": "plaintext"
    }
   },
   "outputs": [],
   "source": [
    "import os\n",
    "# print(os.getcwd())\n",
    "import pandas as pd\n",
    "import sys\n",
    "sys.path.append(\".\")\n",
    "from utils.file_parser import parse_file\n",
    "from utils.llama_prompt import ask_llm\n",
    "import matplotlib.pyplot as plt\n",
    "import seaborn as sns"
   ]
  },
  {
   "cell_type": "code",
   "execution_count": 6,
   "id": "b95b5eea",
   "metadata": {
    "vscode": {
     "languageId": "plaintext"
    }
   },
   "outputs": [
    {
     "name": "stdout",
     "output_type": "stream",
     "text": [
      "DataFrame Preview:\n"
     ]
    },
    {
     "data": {
      "text/html": [
       "<div>\n",
       "<style scoped>\n",
       "    .dataframe tbody tr th:only-of-type {\n",
       "        vertical-align: middle;\n",
       "    }\n",
       "\n",
       "    .dataframe tbody tr th {\n",
       "        vertical-align: top;\n",
       "    }\n",
       "\n",
       "    .dataframe thead th {\n",
       "        text-align: right;\n",
       "    }\n",
       "</style>\n",
       "<table border=\"1\" class=\"dataframe\">\n",
       "  <thead>\n",
       "    <tr style=\"text-align: right;\">\n",
       "      <th></th>\n",
       "      <th>Order ID</th>\n",
       "      <th>Product</th>\n",
       "      <th>Category</th>\n",
       "      <th>Sub-Category</th>\n",
       "      <th>Sales</th>\n",
       "      <th>Quantity</th>\n",
       "      <th>Discount</th>\n",
       "      <th>Profit</th>\n",
       "      <th>Order Date</th>\n",
       "      <th>Region</th>\n",
       "    </tr>\n",
       "  </thead>\n",
       "  <tbody>\n",
       "    <tr>\n",
       "      <th>0</th>\n",
       "      <td>CA-2017-152156</td>\n",
       "      <td>Bookcase</td>\n",
       "      <td>Furniture</td>\n",
       "      <td>Bookcases</td>\n",
       "      <td>261.9600</td>\n",
       "      <td>2</td>\n",
       "      <td>0.00</td>\n",
       "      <td>41.9136</td>\n",
       "      <td>2017-11-08</td>\n",
       "      <td>West</td>\n",
       "    </tr>\n",
       "    <tr>\n",
       "      <th>1</th>\n",
       "      <td>CA-2017-152156</td>\n",
       "      <td>Chair</td>\n",
       "      <td>Furniture</td>\n",
       "      <td>Chairs</td>\n",
       "      <td>731.9400</td>\n",
       "      <td>3</td>\n",
       "      <td>0.00</td>\n",
       "      <td>219.5820</td>\n",
       "      <td>2017-11-08</td>\n",
       "      <td>West</td>\n",
       "    </tr>\n",
       "    <tr>\n",
       "      <th>2</th>\n",
       "      <td>CA-2017-138688</td>\n",
       "      <td>Label</td>\n",
       "      <td>Office Supplies</td>\n",
       "      <td>Labels</td>\n",
       "      <td>14.6200</td>\n",
       "      <td>2</td>\n",
       "      <td>0.00</td>\n",
       "      <td>6.8714</td>\n",
       "      <td>2017-06-12</td>\n",
       "      <td>Central</td>\n",
       "    </tr>\n",
       "    <tr>\n",
       "      <th>3</th>\n",
       "      <td>US-2016-108966</td>\n",
       "      <td>Table</td>\n",
       "      <td>Furniture</td>\n",
       "      <td>Tables</td>\n",
       "      <td>957.5775</td>\n",
       "      <td>5</td>\n",
       "      <td>0.45</td>\n",
       "      <td>-383.0310</td>\n",
       "      <td>2016-10-11</td>\n",
       "      <td>South</td>\n",
       "    </tr>\n",
       "    <tr>\n",
       "      <th>4</th>\n",
       "      <td>US-2016-108966</td>\n",
       "      <td>Storage</td>\n",
       "      <td>Office Supplies</td>\n",
       "      <td>Storage</td>\n",
       "      <td>22.3680</td>\n",
       "      <td>2</td>\n",
       "      <td>0.20</td>\n",
       "      <td>2.5164</td>\n",
       "      <td>2016-10-11</td>\n",
       "      <td>South</td>\n",
       "    </tr>\n",
       "  </tbody>\n",
       "</table>\n",
       "</div>"
      ],
      "text/plain": [
       "         Order ID   Product         Category Sub-Category     Sales  Quantity  \\\n",
       "0  CA-2017-152156  Bookcase        Furniture    Bookcases  261.9600         2   \n",
       "1  CA-2017-152156     Chair        Furniture       Chairs  731.9400         3   \n",
       "2  CA-2017-138688     Label  Office Supplies       Labels   14.6200         2   \n",
       "3  US-2016-108966     Table        Furniture       Tables  957.5775         5   \n",
       "4  US-2016-108966   Storage  Office Supplies      Storage   22.3680         2   \n",
       "\n",
       "   Discount    Profit  Order Date   Region  \n",
       "0      0.00   41.9136  2017-11-08     West  \n",
       "1      0.00  219.5820  2017-11-08     West  \n",
       "2      0.00    6.8714  2017-06-12  Central  \n",
       "3      0.45 -383.0310  2016-10-11    South  \n",
       "4      0.20    2.5164  2016-10-11    South  "
      ]
     },
     "metadata": {},
     "output_type": "display_data"
    }
   ],
   "source": [
    "file_path = \"sample_files/sample.csv\" \n",
    "parsed = parse_file(file_path)\n",
    "\n",
    "if isinstance(parsed, pd.DataFrame):\n",
    "    df = parsed\n",
    "    print(\"DataFrame Preview:\")\n",
    "    display(df.head())\n",
    "else:\n",
    "    text_data = parsed\n",
    "    print(\"Text Preview:\")\n",
    "    print(text_data[:500])\n"
   ]
  },
  {
   "cell_type": "code",
   "execution_count": 7,
   "id": "d2a0603c-caf7-4b82-a15e-429d9b0fdd96",
   "metadata": {},
   "outputs": [],
   "source": [
    "def get_data_brief(df: pd.DataFrame) -> str:\n",
    "    sample = df.head(30).to_csv(index=False)\n",
    "    schema = \", \".join([f\"{col} ({str(dtype)})\" for col, dtype in df.dtypes.items()])\n",
    "    return f\"Columns: {schema}\\n\\nSample Data:\\n{sample}\"\n"
   ]
  },
  {
   "cell_type": "code",
   "execution_count": 8,
   "id": "51ffe4e8-205e-4c9a-8c5b-56c0e339ec96",
   "metadata": {},
   "outputs": [
    {
     "name": "stdout",
     "output_type": "stream",
     "text": [
      "Agent Insight:\n",
      " To get the top 5 most sold products and their quantities, we need to analyze the data provided. The relevant columns for this analysis are 'Product' and 'Quantity'. We will group the data by 'Product', sum the 'Quantity' for each product, and then sort the results in descending order to find the top 5 most sold products.\n",
      "\n",
      "Here's a step-by-step breakdown of the analysis:\n",
      "\n",
      "1. **Data Preparation**: Ensure the data is clean and the 'Quantity' column is free from any errors or missing values.\n",
      "\n",
      "2. **Grouping and Summation**: Group the data by 'Product' and calculate the total quantity sold for each product using the 'Quantity' column.\n",
      "\n",
      "3. **Sorting**: Sort the grouped data in descending order based on the total quantity sold.\n",
      "\n",
      "4. **Top 5 Selection**: Select the top 5 products with the highest total quantity sold.\n",
      "\n",
      "Let's perform the analysis:\n",
      "\n",
      "```python\n",
      "import pandas as pd\n",
      "\n",
      "# Sample data\n",
      "data = {\n",
      "    \"Order ID\": [\"CA-2017-152156\", \"CA-2017-152156\", \"CA-2017-138688\", \"US-2016-108966\", \"US-2016-108966\", \"CA-2015-115812\", \"CA-2015-115812\", \"CA-2015-115812\"],\n",
      "    \"Product\": [\"Bookcase\", \"Chair\", \"Label\", \"Table\", \"Storage\", \"Phones\", \"Binders\", \"Paper\"],\n",
      "    \"Category\": [\"Furniture\", \"Furniture\", \"Office Supplies\", \"Furniture\", \"Office Supplies\", \"Technology\", \"Office Supplies\", \"Office Supplies\"],\n",
      "    \"Sub-Category\": [\"Bookcases\", \"Chairs\", \"Labels\", \"Tables\", \"Storage\", \"Phones\", \"Binders\", \"Paper\"],\n",
      "    \"Sales\": [261.96, 731.94, 14.62, 957.5775, 22.368, 907.152, 15.552, 25.248],\n",
      "    \"Quantity\": [2, 3, 2, 5, 2, 3, 2, 3],\n",
      "    \"Discount\": [0.0, 0.0, 0.0, 0.45, 0.2, 0.2, 0.2, 0.2],\n",
      "    \"Profit\": [41.9136, 219.582, 6.8714, -383.031, 2.5164, 90.7152, 4.6656, 3.786],\n",
      "    \"Order Date\": [\"2017-11-08\", \"2017-11-08\", \"2017-06-12\", \"2016-10-11\", \"2016-10-11\", \"2015-06-09\", \"2015-06-09\", \"2015-06-09\"],\n",
      "    \"Region\": [\"West\", \"West\", \"Central\", \"South\", \"South\", \"West\", \"West\", \"West\"]\n",
      "}\n",
      "\n",
      "# Create DataFrame\n",
      "df = pd.DataFrame(data)\n",
      "\n",
      "# Group by 'Product', sum 'Quantity', and sort in descending order\n",
      "top_products = df.groupby('Product')['Quantity'].sum().reset_index().sort_values(by='Quantity', ascending=False).head(5)\n",
      "\n",
      "# Print the top 5 most sold products and their quantities\n",
      "print(top_products)\n",
      "```\n",
      "\n",
      "**Output:**\n",
      "\n",
      "| Product | Quantity |\n",
      "| --- | --- |\n",
      "| Table | 5 |\n",
      "| Chair | 3 |\n",
      "| Phones | 3 |\n",
      "| Paper | 3 |\n",
      "| Bookcase | 2 |\n",
      "| Binders | 2 |\n",
      "| Label | 2 |\n",
      "| Storage | 2 |\n",
      "\n",
      "Since we are only interested in the top 5, the output will be:\n",
      "\n",
      "| Product | Quantity |\n",
      "| --- | --- |\n",
      "| Table | 5 |\n",
      "| Chair | 3 |\n",
      "| Phones | 3 |\n",
      "| Paper | 3 |\n",
      "| Bookcase | 2 |\n",
      "\n",
      "The top 5 most sold products are 'Table' with 5 units, 'Chair', 'Phones', and 'Paper' each with 3 units, and 'Bookcase' with 2 units. This analysis provides insights into the most popular products based on sales quantity.\n"
     ]
    }
   ],
   "source": [
    "user_input = \"What are the top 5 most sold products and their quantities?\"\n",
    "\n",
    "if isinstance(parsed, pd.DataFrame):\n",
    "    data_summary = get_data_brief(df)\n",
    "else:\n",
    "    data_summary = text_data\n",
    "\n",
    "prompt = f\"\"\"\n",
    "You are a data analyst with strong skills in tabular data interpretation and sales analytics.\n",
    "Given the following data, answer the question in a structured and insightful way.\n",
    "{data_summary}\n",
    "Question: {user_input}\n",
    "\"\"\"\n",
    "\n",
    "response = ask_llm(prompt)\n",
    "print(\"Agent Insight:\\n\", response)\n"
   ]
  },
  {
   "cell_type": "code",
   "execution_count": 9,
   "id": "ea67903a-f67b-4e9c-8bc1-2ba0ee8fb8f3",
   "metadata": {},
   "outputs": [
    {
     "data": {
      "image/png": "[encoded data removed]",
      "text/plain": [
       "<Figure size 1000x600 with 1 Axes>"
      ]
     },
     "metadata": {},
     "output_type": "display_data"
    }
   ],
   "source": [
    "numeric_cols = df.select_dtypes(\"number\").columns.tolist()\n",
    "categorical_cols = df.select_dtypes(\"object\").columns.tolist()\n",
    "\n",
    "if numeric_cols and categorical_cols:\n",
    "    x_col = categorical_cols[0]\n",
    "    y_col = numeric_cols[0]\n",
    "    \n",
    "    plt.figure(figsize=(10,6))\n",
    "    sns.barplot(x=x_col, y=y_col, data=df.groupby(x_col)[y_col].sum().reset_index().sort_values(by=y_col, ascending=False).head(10))\n",
    "    plt.title(f\"Top {x_col} by {y_col}\")\n",
    "    plt.xticks(rotation=45)\n",
    "    plt.tight_layout()\n",
    "    plt.show()\n",
    "else:\n",
    "    print(\"Suitable columns not found for bar chart.\")\n"
   ]
  },
  {
   "cell_type": "code",
   "execution_count": null,
   "id": "ab8d1d75-ba45-4cf2-a0ec-d0fe2159c51a",
   "metadata": {},
   "outputs": [],
   "source": []
  }
 ],
 "metadata": {
  "kernelspec": {
   "display_name": "Python 3 (ipykernel)",
   "language": "python",
   "name": "python3"
  },
  "language_info": {
   "codemirror_mode": {
    "name": "ipython",
    "version": 3
   },
   "file_extension": ".py",
   "mimetype": "text/x-python",
   "name": "python",
   "nbconvert_exporter": "python",
   "pygments_lexer": "ipython3",
   "version": "3.11.4"
  }
 },
 "nbformat": 4,
 "nbformat_minor": 5
}
